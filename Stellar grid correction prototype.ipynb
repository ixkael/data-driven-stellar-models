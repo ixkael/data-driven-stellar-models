{
 "cells": [
  {
   "cell_type": "code",
   "execution_count": 1,
   "metadata": {},
   "outputs": [],
   "source": [
    "%matplotlib inline\n",
    "import numpy as np\n",
    "import matplotlib.pyplot as plt\n",
    "import tensorflow as tf"
   ]
  },
  {
   "cell_type": "code",
   "execution_count": 2,
   "metadata": {},
   "outputs": [],
   "source": [
    "num_bands = 5\n",
    "fixed_band_indices = [3]\n",
    "num_fixed_bands = len(fixed_band_indices)"
   ]
  },
  {
   "cell_type": "code",
   "execution_count": 10,
   "metadata": {},
   "outputs": [],
   "source": [
    "# num_bands, gridsize1, gridsize2, numtypes\n",
    "stellarmodel_grid = np.zeros((num_bands, 73, 73, 2))\n",
    "gridsize1, gridsize2, numtypes = stellarmodel_grid.shape[1:4]\n",
    "\n",
    "# nobj x num_bands\n",
    "nobj = 100\n",
    "obsmags = np.random.randn(nobj, num_bands)\n",
    "obsmags_covar_chol = np.vstack([np.diag(np.random.randn(num_bands)**2.0)[None, :, :] for i in range(nobj)])\n",
    "obsmags_covar_logdet = np.random.randn(nobj)**2.0\n",
    "\n",
    "# random linear grids for the GP prior\n",
    "dim1_grid = np.linspace(0, 1, stellarmodel_grid.shape[1])\n",
    "dim2_grid = np.linspace(0, 1, stellarmodel_grid.shape[2])"
   ]
  },
  {
   "cell_type": "code",
   "execution_count": 11,
   "metadata": {},
   "outputs": [],
   "source": [
    "#TODOS:\n",
    "# add interpolation and/or prior over smoothness of correction\n",
    "# turn Gaussian likelihood into student-t or something else\n",
    "# Priors over stellar parameters!"
   ]
  },
  {
   "cell_type": "code",
   "execution_count": 12,
   "metadata": {},
   "outputs": [],
   "source": [
    "max_correction_magnitude = 0.1\n",
    "# max amplitude of the correction in magnitude space"
   ]
  },
  {
   "cell_type": "code",
   "execution_count": 16,
   "metadata": {},
   "outputs": [],
   "source": [
    "# gridsize1: logg\n",
    "# gridsize2: T\n",
    "\n",
    "# Grid of stellar models\n",
    "# Size: num_bands, gridsize1, gridsize2, numtypes\n",
    "Stellarmodel_grid = tf.placeholder(shape=[num_bands, gridsize1, gridsize2, numtypes], dtype=tf.float32)\n",
    "\n",
    "# \"Lines\" of corrections, in the two dimensions\n",
    "# Defined on R\n",
    "Corrections_dim1_unbounded = tf.Variable(np.random.randn(num_bands, gridsize1, numtypes), dtype=tf.float32)\n",
    "Corrections_dim2_unbounded = tf.Variable(np.random.randn(num_bands, gridsize2, numtypes), dtype=tf.float32)\n",
    "\n",
    "Dim1_grid = tf.placeholder(shape=[gridsize1, ], dtype=tf.float32)\n",
    "Dim2_grid = tf.placeholder(shape=[gridsize1, ], dtype=tf.float32)\n",
    "\n",
    "# We need to set the lengthscale/smoothness of the GP in the two dimensions.\n",
    "# Those are positive (thus the exponentiation) and will be optimized.\n",
    "GPlengthscale1 = tf.exp(tf.Variable(0.2, dtype=tf.float32, trainable=True))\n",
    "GPlengthscale2 = tf.exp(tf.Variable(0.2, dtype=tf.float32, trainable=True))\n",
    "\n",
    "# The (cholesky decompositions) of the covariance matrices\n",
    "Diagnoise1 = tf.diag(tf.cast(tf.constant(np.repeat(1e-5, gridsize1)), dtype=tf.float32))\n",
    "Diagnoise2 = tf.diag(tf.cast(tf.constant(np.repeat(1e-5, gridsize2)), dtype=tf.float32))\n",
    "Covariance1 = tf.exp(-0.5*((Dim1_grid[:, None] - Dim1_grid[None, :])/GPlengthscale1)**2.0) + Diagnoise1\n",
    "Covariance2 = tf.exp(-0.5*((Dim2_grid[:, None] - Dim2_grid[None, :])/GPlengthscale2)**2.0) + Diagnoise2\n",
    "CovarianceChol1 = tf.cholesky(Covariance1)[None, None, :, :] * tf.ones((num_bands, numtypes, 1, 1))\n",
    "CovarianceChol2 = tf.cholesky(Covariance2)[None, None, :, :] * tf.ones((num_bands, numtypes, 1, 1))\n",
    "x1 = tf.transpose(Corrections_dim1_unbounded, [0, 2, 1])[:, :, :, None]\n",
    "x2 = tf.transpose(Corrections_dim2_unbounded, [0, 2, 1])[:, :, :, None]\n",
    "LogDet1 = tf.linalg.logdet(Covariance1) # scalar\n",
    "LogDet2 = tf.linalg.logdet(Covariance2) # scalar\n",
    "# Size: num_bands x numtypes\n",
    "LogGPpriors1 = -0.5*tf.reduce_sum(x1 * tf.cholesky_solve(CovarianceChol1, x1), axis=(2, 3)) - 0.5*LogDet1\n",
    "LogGPpriors2 = -0.5*tf.reduce_sum(x2 * tf.cholesky_solve(CovarianceChol2, x2), axis=(2, 3)) - 0.5*LogDet2\n",
    "# scalars\n",
    "LogGPprior1 = tf.reduce_sum(LogGPpriors1)\n",
    "LogGPprior2 = tf.reduce_sum(LogGPpriors2)\n",
    "\n",
    "# Set the corrections to zero in the bands that are fixed\n",
    "Fixed_band_indices = tf.placeholder(shape=[num_fixed_bands, ], dtype=tf.int32)\n",
    "tf.scatter_update(Corrections_dim1_unbounded, Fixed_band_indices, tf.zeros((num_fixed_bands, gridsize1, numtypes)))\n",
    "tf.scatter_update(Corrections_dim2_unbounded, Fixed_band_indices, tf.zeros((num_fixed_bands, gridsize1, numtypes)))\n",
    "\n",
    "# Now we map them to a limited space: [-max_correction_magnitude, +max_correction_magnitude]\n",
    "# (tf.sigmoid maps R on [0, 1])\n",
    "Corrections_dim1 = max_correction_magnitude * (2*tf.sigmoid(Corrections_dim1_unbounded) - 1)\n",
    "Corrections_dim2 = max_correction_magnitude * (2*tf.sigmoid(Corrections_dim2_unbounded) - 1)\n",
    "\n",
    "# Add the line corrections to form a grid\n",
    "# Correction(logg, T) = Correction(T) + Correction(logg)\n",
    "# so the grid is in [-2*max_correction_magnitude, 2*max_correction_magnitude]\n",
    "# Size: num_bands x gridsize1 x gridsize2 x numtypes\n",
    "Corrections_grid = Corrections_dim1[:, :, None, :] + Corrections_dim2[:, None, :, :] \n",
    "\n",
    "# Apply them to the stellar models and rotate axes\n",
    "# Size: gridsize1, gridsize2, numtypes, num_bands\n",
    "Corrected_stellarmodel_grid = tf.transpose(Stellarmodel_grid + Corrections_grid,\n",
    "                                           perm=[1, 2, 3, 0])\n",
    "\n",
    "# Now define the observations\n",
    "# Size: nobj x num_bands\n",
    "Obsmags = tf.placeholder(shape=[None, num_bands], dtype=tf.float32)\n",
    "Obsmags_covar_chol = tf.placeholder(shape=[None, num_bands, num_bands], dtype=tf.float32)\n",
    "Obsmags_covar_logdet = tf.placeholder(shape=[None, ], dtype=tf.float32)\n",
    "\n",
    "# Compute the log likelihoods per object and per model element\n",
    "# Size: nobj, gridsize1, gridsize2, numtypes, num_bands, 1\n",
    "Delta = Obsmags[:, None, None, None, :, None] - Corrected_stellarmodel_grid[None, :, :, :, :, None]\n",
    "Cov = Obsmags_covar_chol[:, None, None, None, :, :] * tf.ones((1, gridsize1, gridsize2, numtypes, 1, 1))\n",
    "\n",
    "if False:# GAUSSIAN CHI2\n",
    "    # Size: nobj, gridsize1, gridsize2, numtypes\n",
    "    Chi2s = tf.reduce_sum(tf.multiply(Delta, tf.cholesky_solve(Cov, Delta)), axis=(4, 5))\n",
    "    # Size: nobj x gridsize1, gridsize2, numtypes\n",
    "    Loglikes = -0.5 * (Chi2s + Obsmags_covar_logdet[:, None, None, None])\n",
    "else: # STUDENT T\n",
    "    Nu = tf.Variable(200.0, dtype=tf.float32)\n",
    "    # Size: nobj, gridsize1, gridsize2, numtypes\n",
    "    Nud2 = (Nu + num_bands)/2\n",
    "    Chi2s = tf.reduce_sum(tf.multiply(Delta, tf.cholesky_solve(Cov, Delta)), axis=(4, 5))\n",
    "    Loglikes = tf.lgamma(Nud2) - tf.lgamma(Nu/2) - num_bands/2 * tf.log(Nu) \\\n",
    "        - 0.5 * Obsmags_covar_logdet[:, None, None, None] - Nud2 *tf.log(1 + Chi2s / Nu)\n",
    "    # Size: nobj x gridsize1, gridsize2, numtypes\n",
    "\n",
    "# Finally, compute the log evidence per object and the final log posterior\n",
    "# Size: nobj\n",
    "Logevidences = tf.reduce_logsumexp(Loglikes, axis=(1, 2, 3))\n",
    "# Size: scalar!\n",
    "MinusLogprob = - tf.reduce_sum(Logevidences, axis=0) - LogGPprior1 - LogGPprior2"
   ]
  },
  {
   "cell_type": "code",
   "execution_count": null,
   "metadata": {},
   "outputs": [
    {
     "name": "stdout",
     "output_type": "stream",
     "text": [
      "Iteration 0 : minus log posterior =  68507760.0\n",
      "Iteration 10 : minus log posterior =  10400796.0\n"
     ]
    }
   ],
   "source": [
    "num_iterations = 20\n",
    "learning_rate = 1e-1\n",
    "\n",
    "Optimizer = tf.train.AdamOptimizer(learning_rate=learning_rate)\\\n",
    "    .minimize(MinusLogprob)\n",
    "    \n",
    "with tf.Session() as sess:\n",
    "\n",
    "    # initialize variables\n",
    "    sess.run(tf.global_variables_initializer())\n",
    "    \n",
    "    # loop: iterations of the optimizer\n",
    "    for i in range(num_iterations):\n",
    "        \n",
    "        subset = np.random.choice(nobj, nobj // 2, replace=False)\n",
    "        \n",
    "        c = sess.run([Covariance1],\n",
    "                     feed_dict={\n",
    "                         Fixed_band_indices: fixed_band_indices,\n",
    "                         Stellarmodel_grid: stellarmodel_grid,\n",
    "                         Obsmags: obsmags[subset, :],\n",
    "                         Obsmags_covar_chol: obsmags_covar_chol[subset, :, :],\n",
    "                         Obsmags_covar_logdet: obsmags_covar_logdet[subset],\n",
    "                         Dim1_grid: dim1_grid, Dim2_grid: dim2_grid\n",
    "                     }) \n",
    "        #print(c)\n",
    "        #print(np.linalg.cholesky(c))\n",
    "        \n",
    "        _, minuslogprob, corrections_dim1, corrections_dim2 =\\\n",
    "           sess.run([Optimizer, MinusLogprob, Corrections_dim1, Corrections_dim2],\n",
    "                     feed_dict={\n",
    "                         Fixed_band_indices: fixed_band_indices,\n",
    "                         Stellarmodel_grid: stellarmodel_grid,\n",
    "                         Obsmags: obsmags[subset, :],\n",
    "                         Obsmags_covar_chol: obsmags_covar_chol[subset, :, :],\n",
    "                         Obsmags_covar_logdet: obsmags_covar_logdet[subset],\n",
    "                         Dim1_grid: dim1_grid, Dim2_grid: dim2_grid\n",
    "                     }) \n",
    "        \n",
    "        if i % 10 == 0:\n",
    "            print('Iteration', i, ': minus log posterior = ', minuslogprob)\n"
   ]
  },
  {
   "cell_type": "code",
   "execution_count": null,
   "metadata": {},
   "outputs": [],
   "source": [
    "# num_bands, gridsize1, numtypes\n",
    "fig, axs = plt.subplots(num_bands, 2, figsize=(8, 8), sharex=True)\n",
    "for i in range(num_bands):\n",
    "    axs[i, 0].plot(dim1_grid, corrections_dim1[i, :, 0], label='Type 1')\n",
    "    axs[i, 0].plot(dim1_grid, corrections_dim1[i, :, 1], label='Type 2')\n",
    "    axs[i, 1].plot(dim2_grid, corrections_dim2[i, :, :])\n",
    "    axs[i, 0].set_ylabel('Corr in band '+str(i+1))\n",
    "    axs[i, 1].set_ylabel('Corr in band '+str(i+1))\n",
    "axs[-1, 0].set_xlabel('Log g')\n",
    "axs[-1, 1].set_xlabel('T')\n",
    "axs[0, 0].legend()\n",
    "fig.tight_layout()"
   ]
  },
  {
   "cell_type": "code",
   "execution_count": null,
   "metadata": {},
   "outputs": [],
   "source": []
  },
  {
   "cell_type": "code",
   "execution_count": null,
   "metadata": {},
   "outputs": [],
   "source": []
  },
  {
   "cell_type": "code",
   "execution_count": null,
   "metadata": {},
   "outputs": [],
   "source": []
  },
  {
   "cell_type": "code",
   "execution_count": null,
   "metadata": {},
   "outputs": [],
   "source": []
  },
  {
   "cell_type": "code",
   "execution_count": null,
   "metadata": {},
   "outputs": [],
   "source": []
  }
 ],
 "metadata": {
  "kernelspec": {
   "display_name": "Python 3",
   "language": "python",
   "name": "python3"
  },
  "language_info": {
   "codemirror_mode": {
    "name": "ipython",
    "version": 3
   },
   "file_extension": ".py",
   "mimetype": "text/x-python",
   "name": "python",
   "nbconvert_exporter": "python",
   "pygments_lexer": "ipython3",
   "version": "3.6.0"
  }
 },
 "nbformat": 4,
 "nbformat_minor": 2
}
